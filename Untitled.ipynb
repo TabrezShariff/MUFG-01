{
 "cells": [
  {
   "cell_type": "code",
   "execution_count": 7,
   "id": "35a3cba6-f893-497c-a6a5-56aecd9020c2",
   "metadata": {
    "editable": true,
    "slideshow": {
     "slide_type": ""
    },
    "tags": []
   },
   "outputs": [
    {
     "data": {
      "text/plain": [
       "1"
      ]
     },
     "execution_count": 7,
     "metadata": {},
     "output_type": "execute_result"
    }
   ],
   "source": [
    "list = [5, 8, 1, 0, 9]\n",
    "list[2]"
   ]
  },
  {
   "cell_type": "code",
   "execution_count": 7,
   "id": "761bc11b-458e-4a91-84b3-2b62e6d75991",
   "metadata": {},
   "outputs": [
    {
     "name": "stdout",
     "output_type": "stream",
     "text": [
      "300\n"
     ]
    }
   ],
   "source": [
    "list = [\"Jimi\", 5000, True, 3.8, 2019, 300]\n",
    "print(list[-1])"
   ]
  },
  {
   "cell_type": "code",
   "execution_count": 16,
   "id": "2a2d50af-57d2-4d75-bbdb-dded721621f5",
   "metadata": {},
   "outputs": [
    {
     "name": "stdout",
     "output_type": "stream",
     "text": [
      "['Gilchrist', 'Waugh', 'Dravid', 'Pollock']\n",
      "['Gayle', 'Gilchrist', 'Waugh', 'Dravid', 'Pollock']\n",
      "['Tendulkar']\n"
     ]
    }
   ],
   "source": [
    "# Slicing\n",
    "# Access cross section of Lists \n",
    "lst1 = ['Gayle', 'Gilchrist', 'Waugh', 'Dravid', 'Pollock', 'Tendulkar', 'Gavaskar', 'Dhoni']\n",
    "print(lst1[1:5])    # Print elements 2 to 5\n",
    "print(lst1[:5])    # Print elements start to 5 - default start 0\n",
    "print(lst1[-3:-2])    # Print all elements starting from 2nd - default end is all"
   ]
  },
  {
   "cell_type": "code",
   "execution_count": 19,
   "id": "37a31b03-e10f-4553-8ff0-ca23e629f1c7",
   "metadata": {},
   "outputs": [
    {
     "name": "stdout",
     "output_type": "stream",
     "text": [
      "[2, 5, 8]\n"
     ]
    }
   ],
   "source": [
    "num = [1, 2, 3, 4, 5, 6, 7, 8, 9, 10]\n",
    "print(num[1:10:3])"
   ]
  },
  {
   "cell_type": "code",
   "execution_count": 21,
   "id": "00772e18-e25a-4bfd-bee7-929a7156ba79",
   "metadata": {},
   "outputs": [
    {
     "name": "stdout",
     "output_type": "stream",
     "text": [
      "None\n"
     ]
    }
   ],
   "source": [
    "num = [1, 2, 3, 4, 5, 6, 7, 8, 9, 10]\n",
    "print(num.extend([11, 12, 13]))\n"
   ]
  },
  {
   "cell_type": "code",
   "execution_count": 23,
   "id": "ef1f5d78-515a-479b-8577-e78416a9de55",
   "metadata": {},
   "outputs": [
    {
     "name": "stdout",
     "output_type": "stream",
     "text": [
      "[1, 2, 3, 4, 5, 6, 7, 8, 9, 10, 11, 12, 13, 14, 15, 16, 17, 18, 19, 20, 21, 22, 23, 24, 25, 26, 27, 28, 29, 30, 31, 32, 33, 34, 35, 36, 37, 38, 39, 40, 41, 42, 43, 44, 45, 46, 47, 48, 49, 50, 51, 52, 53, 54, 55, 56, 57, 58, 59, 60, 61, 62, 63, 64, 65, 66, 67, 68, 69, 70, 71, 72, 73, 74, 75, 76, 77, 78, 79, 80, 81, 82, 83, 84, 85, 86, 87, 88, 89, 90, 91, 92, 93, 94, 95, 96, 97, 98, 99]\n"
     ]
    }
   ],
   "source": [
    "req=[]\n",
    "for i in range(1, 100):\n",
    "    req.append(i)\n",
    "print(req)"
   ]
  },
  {
   "cell_type": "code",
   "execution_count": 7,
   "id": "7a0fcbc5-58b6-43df-a912-93400b477e92",
   "metadata": {},
   "outputs": [
    {
     "name": "stdout",
     "output_type": "stream",
     "text": [
      "{1, 5, 8, 9}\n"
     ]
    }
   ],
   "source": [
    "a = set([1, 2, 3, 4, 5])\n",
    "b = set([2, 3, 4, 8, 9])\n",
    "diff1=b-a\n",
    "diff2=a.symmetric_difference(b)\n",
    "print(diff2)"
   ]
  },
  {
   "cell_type": "code",
   "execution_count": 4,
   "id": "eecdb8ba-0289-4806-b245-dbc9cd57e65d",
   "metadata": {},
   "outputs": [
    {
     "name": "stdout",
     "output_type": "stream",
     "text": [
      "Set 1:  {'e', 'c', 'g', 'b', 'f', 'a', 'h', 'd'}\n",
      "Set 2:  {'e', 'c', 'm', 't', 'b', 'f', 'a', 'h', 'q'}\n"
     ]
    }
   ],
   "source": [
    "set1 = set(['a', 'b', 'c', 'd', 'e', 'f', 'g', 'h'])\n",
    "set2 = set(['a', 'b', 'c', 'e', 'f', 'h', 'm', 't', 'q'])\n",
    "print(\"Set 1: \", set1)\n",
    "print(\"Set 2: \", set2)"
   ]
  },
  {
   "cell_type": "code",
   "execution_count": 25,
   "id": "b9a8c8e9-7e99-4c92-a994-e17d6f6fb5bf",
   "metadata": {},
   "outputs": [
    {
     "name": "stdout",
     "output_type": "stream",
     "text": [
      "[[ 0  5 10 15 20]\n",
      " [ 2  4  6  8 10]]\n",
      "(2, 5)\n"
     ]
    }
   ],
   "source": [
    "import numpy as np\n",
    "import pandas as pd\n",
    "arr = np.array([[0,5,10,15,20], [2, 4, 6, 8, 10]])\n",
    "print(arr)\n",
    "print(arr.shape)"
   ]
  },
  {
   "cell_type": "code",
   "execution_count": 32,
   "id": "7ea7903f-28bb-43fc-9fde-791ceb4d3142",
   "metadata": {},
   "outputs": [
    {
     "name": "stdout",
     "output_type": "stream",
     "text": [
      "[[0.46618546 0.66456611 0.13368155]\n",
      " [0.24284825 0.13774897 0.75142219]\n",
      " [0.95380634 0.48714375 0.87153419]]\n"
     ]
    }
   ],
   "source": [
    "# Create an array filled with random values\n",
    "arr = np.random.random((3,3))  \n",
    "print(arr)"
   ]
  },
  {
   "cell_type": "code",
   "execution_count": 34,
   "id": "f1c4d8f2-deb5-4f99-a1a2-d7a0c5c01d05",
   "metadata": {},
   "outputs": [
    {
     "data": {
      "text/plain": [
       "array([0, 2, 4, 6, 8])"
      ]
     },
     "execution_count": 34,
     "metadata": {},
     "output_type": "execute_result"
    }
   ],
   "source": [
    "arr = np.arange(0, 10, 2)\n",
    "arr"
   ]
  },
  {
   "cell_type": "code",
   "execution_count": 47,
   "id": "0203d206-8af3-4d1c-b7e4-5bcb2565ddbb",
   "metadata": {},
   "outputs": [
    {
     "data": {
      "text/plain": [
       "array([[ 0,  1,  2,  3,  4,  5],\n",
       "       [ 6,  7,  8,  9, 10, 11],\n",
       "       [12, 13, 14, 15, 16, 17],\n",
       "       [18, 19, 20, 21, 22, 23],\n",
       "       [24, 25, 26, 27, 28, 29]])"
      ]
     },
     "execution_count": 47,
     "metadata": {},
     "output_type": "execute_result"
    }
   ],
   "source": [
    "# Reshape the array to a new specified dimension\n",
    "arr = np.arange(30)\n",
    "arr = arr.reshape(5,6)\n",
    "arr"
   ]
  },
  {
   "cell_type": "code",
   "execution_count": null,
   "id": "7436f65d-1f29-4c4b-8843-9a8b01a295b1",
   "metadata": {},
   "outputs": [],
   "source": []
  }
 ],
 "metadata": {
  "kernelspec": {
   "display_name": "Python 3 (ipykernel)",
   "language": "python",
   "name": "python3"
  },
  "language_info": {
   "codemirror_mode": {
    "name": "ipython",
    "version": 3
   },
   "file_extension": ".py",
   "mimetype": "text/x-python",
   "name": "python",
   "nbconvert_exporter": "python",
   "pygments_lexer": "ipython3",
   "version": "3.10.11"
  }
 },
 "nbformat": 4,
 "nbformat_minor": 5
}
